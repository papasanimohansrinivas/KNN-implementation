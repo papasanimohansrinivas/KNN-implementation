{
 "cells": [
  {
   "cell_type": "markdown",
   "metadata": {},
   "source": [
    "# Custom Code   KNN  Implementation\n",
    "\n",
    "### Below steps are implemented following pseudo code for knn.\n"
   ]
  },
  {
   "cell_type": "code",
   "execution_count": 42,
   "metadata": {
    "collapsed": true
   },
   "outputs": [],
   "source": [
    "# does float division in py -2 \n",
    "\n",
    "from __future__ import division\n",
    "\n",
    "# module to read arff format files \n",
    "\n",
    "import arff"
   ]
  },
  {
   "cell_type": "code",
   "execution_count": 43,
   "metadata": {
    "collapsed": true
   },
   "outputs": [],
   "source": [
    "training_file=\"trainProdSelection.arff\"\n",
    "\n",
    "testing_file=\"testProdSelection.arff\""
   ]
  },
  {
   "cell_type": "markdown",
   "metadata": {},
   "source": [
    "## Reading arff files into list \n",
    "\n",
    "Below function reads content from arff files into py -2 list.\n"
   ]
  },
  {
   "cell_type": "code",
   "execution_count": 68,
   "metadata": {
    "collapsed": true
   },
   "outputs": [],
   "source": [
    "Dtrain = []\n",
    "\n",
    "Dtest = []\n",
    "\n",
    "def read_file(arff_file,file_):\n",
    "    \n",
    "    for row in arff.load(arff_file):\n",
    "        file_.append(\n",
    "                \n",
    "            [ \n",
    "                row['Type'],\n",
    "                row['LifeStyle'],\n",
    "                map(float,[row['Vacation'],row['eCredit'],row['salary'],row['property']]),\n",
    "                row['label']\n",
    "            ]\n",
    "            \n",
    "        )\n",
    "        \n",
    "    return file_\n",
    "\n",
    "Dtrain=read_file(training_file,Dtrain)\n",
    "\n",
    "Dtest=read_file(testing_file,Dtest)\n",
    "\n",
    "    "
   ]
  },
  {
   "cell_type": "markdown",
   "metadata": {},
   "source": [
    "## Data Normalisation\n",
    "\n",
    "#### normalise_data func is implemented to normalise real values in Dtrain  and Dtest array "
   ]
  },
  {
   "cell_type": "code",
   "execution_count": 69,
   "metadata": {
    "collapsed": true
   },
   "outputs": [],
   "source": [
    "def normalise_data(vector):\n",
    "    vacation = []\n",
    "    credit = []\n",
    "    salary = []\n",
    "    property_ = []\n",
    "    \n",
    "    for y in vector:\n",
    "        a,b,c,d=y[2]\n",
    "        vacation.append(a)\n",
    "        credit.append(b)\n",
    "        salary.append(c)\n",
    "        property_.append(d)\n",
    "    \n",
    "    normalise = lambda vec,min_,max_ : [(f-min_)/(max_-min_) for f in vec]\n",
    "    \n",
    "    vacation=normalise(vacation,min(vacation),max(vacation))\n",
    "    \n",
    "    credit = normalise(credit,min(credit),max(credit))\n",
    "    \n",
    "    salary = normalise(salary,min(salary),max(salary))\n",
    "    \n",
    "    property_ = normalise(property_,min(property_),max(property_))\n",
    "    \n",
    "    index = 0\n",
    "    \n",
    "    for l in vector:\n",
    "        l[2]=[vacation[index],credit[index],salary[index],property_[index]]\n",
    "        index+=1\n",
    "        \n",
    "    return vector"
   ]
  },
  {
   "cell_type": "markdown",
   "metadata": {},
   "source": [
    "#### Normalisation of vector is done \n",
    "\n",
    "##### And label column from Dtest is removed  and kept seperate for future validation"
   ]
  },
  {
   "cell_type": "code",
   "execution_count": 70,
   "metadata": {
    "collapsed": true
   },
   "outputs": [],
   "source": [
    "Dtrain = normalise_data(Dtrain)\n",
    "\n",
    "Dtest = normalise_data(Dtest)\n",
    "\n",
    "verification = lambda Dtest: [row_[3] for row_ in Dtest ]\n",
    "\n",
    "validation=verification(Dtest)"
   ]
  },
  {
   "cell_type": "markdown",
   "metadata": {},
   "source": [
    "### KNN Function\n",
    "\n",
    "#### I observed from similarity matrix that no two attributes are similar\n",
    "\n",
    "#### and coded that into similar lambda func\n",
    "\n",
    "#### \"similar\":   gives 1 if two attr are similar else 0 \n",
    "\n",
    "#####  \"diff\" : calulates differences of two vectors \n",
    "\n",
    "##### \"distance\" : gives us euclidean distance \n",
    "\n",
    "#####  \"top_five\": returns least five values from sorted list\n",
    "\n"
   ]
  },
  {
   "cell_type": "code",
   "execution_count": 71,
   "metadata": {},
   "outputs": [],
   "source": [
    "def KNN(Dtest,Dtrain):\n",
    "    \n",
    "    result = []\n",
    "\n",
    "    import math\n",
    "    \n",
    "    similar =  lambda x,y: 1 if x==y else 0\n",
    "    \n",
    "    distance = lambda v1: math.sqrt(sum([v**2 for v in v1]))\n",
    "    \n",
    "    diff = lambda v0,v2,l : [v0[n]-v2[n] for n in xrange(l)]\n",
    "        \n",
    "    top_five = lambda vec : [vec[i][1] for i in xrange(0,5)]\n",
    "    \n",
    "    reverse=lambda dict_1,v:{\n",
    "        v:sorted([key for key in dict_1 if dict_1[key]==v])\n",
    "    }\n",
    "        \n",
    "    from operator import itemgetter\n",
    "    \n",
    "    app_ = result.append\n",
    "    \n",
    "    for vec in Dtest:\n",
    "        distances = []\n",
    "        \n",
    "        app=distances.append \n",
    "        \n",
    "        for vec_ in Dtrain:\n",
    "            a=1-similar(vec[0],vec_[0])\n",
    "            b=1-similar(vec[1],vec_[1])\n",
    "            c,d,e,f = diff(vec[2],vec_[2],len(vec_[2]))\n",
    "            app([distance([a,b,c,d,e,f]),vec_[3]])\n",
    "        \n",
    "        distances=sorted(distances,key=itemgetter(0))\n",
    "        \n",
    "        classes = top_five(distances)\n",
    "        \n",
    "        class_ = {\n",
    "            'C1': classes.count('C1'),\n",
    "            'C2': classes.count('C2'),\n",
    "            'C3': classes.count('C3'),\n",
    "            'C4': classes.count('C4'),\n",
    "            'C5': classes.count('C5')\n",
    "        }\n",
    "        \n",
    "        v=max(class_.values())\n",
    "        \n",
    "        d=reverse(class_,v)\n",
    "        \n",
    "        app_(d[v][0])\n",
    "        \n",
    "    return result\n",
    "                \n",
    "result=KNN(Dtest,Dtrain)\n",
    "        "
   ]
  },
  {
   "cell_type": "markdown",
   "metadata": {},
   "source": [
    "#### Accuracy Function\n",
    "\n",
    "#### I implemented my own accuarcy function.\n",
    "\n",
    "#### It calculates total number of matches in validation and result and then divides by total observations.\n",
    "\n",
    "#### current accuracy is  28.5714"
   ]
  },
  {
   "cell_type": "code",
   "execution_count": 84,
   "metadata": {},
   "outputs": [
    {
     "name": "stdout",
     "output_type": "stream",
     "text": [
      "custom KNN implementation accuracy : 28.571429 \n"
     ]
    }
   ],
   "source": [
    "def accuracy(result,validation):\n",
    "    r1 = len(result)\n",
    "    \n",
    "    matrix_2 = {'C1':1,'C2':2,'C3':3,'C4':4,'C5':5}\n",
    "    \n",
    "    result = [matrix_2[g] for g in result] if type(result[0])==str else  result\n",
    "    \n",
    "    validation = [matrix_2[b] for b in validation] if type(validation[0])==str else validation\n",
    "        \n",
    "    matches = lambda v1,v2,r1: [1 if v1[r]==v2[r] else 0 for r in xrange(r1)]    \n",
    "    \n",
    "    return matches(result,validation,r1).count(1)/len(result)*100\n",
    "\n",
    "print \"custom KNN implementation accuracy :\"+\" %f \" % accuracy(result,validation)"
   ]
  },
  {
   "cell_type": "markdown",
   "metadata": {},
   "source": [
    "# Sci-Kit Learn Implementation\n",
    "\n",
    "#### To be implemented for comparison\n"
   ]
  },
  {
   "cell_type": "code",
   "execution_count": 73,
   "metadata": {
    "collapsed": true
   },
   "outputs": [],
   "source": [
    "from sklearn.neighbors import KNeighborsClassifier\n"
   ]
  },
  {
   "cell_type": "code",
   "execution_count": 74,
   "metadata": {},
   "outputs": [
    {
     "data": {
      "text/plain": [
       "sklearn.neighbors.classification.KNeighborsClassifier"
      ]
     },
     "execution_count": 74,
     "metadata": {},
     "output_type": "execute_result"
    }
   ],
   "source": [
    "KNeighborsClassifier"
   ]
  },
  {
   "cell_type": "code",
   "execution_count": 75,
   "metadata": {},
   "outputs": [],
   "source": [
    "temp_new = []\n",
    "Y = []\n",
    "\n",
    "matrix_0 = {'student':1,'engineer':2,'librarian':3,'professor':4,'doctor':5}\n",
    "\n",
    "matrix_1 = {'spend>saving':1,'spend>>saving':2,'spend<<saving':3,'spend<saving':4}\n",
    "\n",
    "matrix_2 = {'C1':1,'C2':2,'C3':3,'C4':4,'C5':5}\n",
    "\n",
    "for i in  Dtrain:\n",
    "    a = matrix_0[i[0]]\n",
    "    b = matrix_1[i[1]]\n",
    "    c,d,e,f=i[2]\n",
    "    g = i[3]\n",
    "    Y.append(matrix_2[g])\n",
    "    temp_new.append([a,b,c,d,e,f])\n",
    "test_new = []\n",
    "for l in Dtest:\n",
    "    a1 =  matrix_0[l[0]]\n",
    "    b1 =  matrix_1[l[1]]\n",
    "    c1,d1,e1,f1 = l[2]\n",
    "    g1 =  l[3]\n",
    "    test_new.append([a1,b1,c1,d1,e1,f1])"
   ]
  },
  {
   "cell_type": "code",
   "execution_count": 76,
   "metadata": {
    "collapsed": true
   },
   "outputs": [],
   "source": [
    "def distance_function(v1,v2):\n",
    "    sim= lambda v1,v2,i: 1 if v1[i]==v2[i] else 0\n",
    "    \n",
    "    a = sim(v1,v2,0)\n",
    "    \n",
    "    \n",
    "    b = sim(v1,v2,1)\n",
    "    \n",
    "    dist = lambda v1,v2,k : sum([(v1[j]-v2[j])**2 for j in xrange(k)])\n",
    "    \n",
    "    import math\n",
    "    \n",
    "    return math.sqrt(a+b+dist(v1[2:],v2[2:],4))"
   ]
  },
  {
   "cell_type": "code",
   "execution_count": 77,
   "metadata": {
    "collapsed": true
   },
   "outputs": [],
   "source": [
    "# from sklearn.neighbors import NearestNeighbors\n",
    "\n",
    "n=KNeighborsClassifier(\n",
    "    algorithm='ball_tree',\n",
    "    n_neighbors=5,\n",
    "    metric=distance_function,\n",
    "    weights='distance',\n",
    "    leaf_size = 60\n",
    ")"
   ]
  },
  {
   "cell_type": "code",
   "execution_count": 78,
   "metadata": {},
   "outputs": [
    {
     "data": {
      "text/plain": [
       "KNeighborsClassifier(algorithm='ball_tree', leaf_size=60,\n",
       "           metric=<function distance_function at 0x000000001C1AE898>,\n",
       "           metric_params=None, n_jobs=1, n_neighbors=5, p=2,\n",
       "           weights='distance')"
      ]
     },
     "execution_count": 78,
     "metadata": {},
     "output_type": "execute_result"
    }
   ],
   "source": [
    "n.fit(temp_new,Y)"
   ]
  },
  {
   "cell_type": "code",
   "execution_count": 79,
   "metadata": {
    "collapsed": true
   },
   "outputs": [],
   "source": [
    "results = n.predict(test_new)"
   ]
  },
  {
   "cell_type": "code",
   "execution_count": 80,
   "metadata": {
    "collapsed": true
   },
   "outputs": [],
   "source": [
    "# validation\n",
    "# validation = [matrix_2[t] for t in validation]\n",
    "# print results"
   ]
  },
  {
   "cell_type": "code",
   "execution_count": 83,
   "metadata": {},
   "outputs": [
    {
     "name": "stdout",
     "output_type": "stream",
     "text": [
      "scikit learn accuracy : 19.047619 \n"
     ]
    }
   ],
   "source": [
    "print \"scikit learn accuracy :\"+  \" %f \" % accuracy(results,validation)\n"
   ]
  },
  {
   "cell_type": "code",
   "execution_count": null,
   "metadata": {
    "collapsed": true
   },
   "outputs": [],
   "source": []
  }
 ],
 "metadata": {
  "kernelspec": {
   "display_name": "Python 2",
   "language": "python",
   "name": "python2"
  },
  "language_info": {
   "codemirror_mode": {
    "name": "ipython",
    "version": 2
   },
   "file_extension": ".py",
   "mimetype": "text/x-python",
   "name": "python",
   "nbconvert_exporter": "python",
   "pygments_lexer": "ipython2",
   "version": "2.7"
  }
 },
 "nbformat": 4,
 "nbformat_minor": 2
}

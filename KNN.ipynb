{
 "cells": [
  {
   "cell_type": "markdown",
   "metadata": {},
   "source": [
    "# OWN Implementation"
   ]
  },
  {
   "cell_type": "code",
   "execution_count": 1,
   "metadata": {
    "collapsed": true
   },
   "outputs": [],
   "source": [
    "from __future__ import division\n",
    "\n",
    "# module to read arff format files \n",
    "\n",
    "import arff"
   ]
  },
  {
   "cell_type": "code",
   "execution_count": 2,
   "metadata": {
    "collapsed": true
   },
   "outputs": [],
   "source": [
    "training_file=\"trainProdSelection.arff\"\n",
    "\n",
    "testing_file=\"testProdSelection.arff\""
   ]
  },
  {
   "cell_type": "markdown",
   "metadata": {},
   "source": [
    "# Read File into list"
   ]
  },
  {
   "cell_type": "code",
   "execution_count": 3,
   "metadata": {
    "collapsed": true
   },
   "outputs": [],
   "source": [
    "Dtrain = []\n",
    "\n",
    "Dtest = []\n",
    "\n",
    "def read_file(arff_file,file_):\n",
    "    \n",
    "    for row in arff.load(arff_file):\n",
    "        file_.append(\n",
    "                \n",
    "            [ \n",
    "                row['Type'],\n",
    "                row['LifeStyle'],\n",
    "                map(float,[row['Vacation'],row['eCredit'],row['salary'],row['property']]),\n",
    "                row['label']\n",
    "            ]\n",
    "            \n",
    "        )\n",
    "        \n",
    "    return file_\n",
    "\n",
    "Dtrain=read_file(training_file,Dtrain)\n",
    "\n",
    "Dtest=read_file(testing_file,Dtest)\n",
    "\n",
    "    "
   ]
  },
  {
   "cell_type": "markdown",
   "metadata": {},
   "source": [
    "# Normaliing the Data "
   ]
  },
  {
   "cell_type": "code",
   "execution_count": 4,
   "metadata": {
    "collapsed": true
   },
   "outputs": [],
   "source": [
    "def normalise_data(vector):\n",
    "    vacation = []\n",
    "    credit = []\n",
    "    salary = []\n",
    "    property_ = []\n",
    "    \n",
    "    for y in vector:\n",
    "        a,b,c,d=y[2]\n",
    "        vacation.append(a)\n",
    "        credit.append(b)\n",
    "        salary.append(c)\n",
    "        property_.append(d)\n",
    "    \n",
    "    normalise = lambda vec,min_,max_ : [(f-min_)/(max_-min_) for f in vec]\n",
    "    \n",
    "    vacation=normalise(vacation,min(vacation),max(vacation))\n",
    "    \n",
    "    credit = normalise(credit,min(credit),max(credit))\n",
    "    \n",
    "    salary = normalise(salary,min(salary),max(salary))\n",
    "    \n",
    "    property_ = normalise(property_,min(property_),max(property_))\n",
    "    \n",
    "    index = 0\n",
    "    \n",
    "    for l in vector:\n",
    "        l[2]=[vacation[index],credit[index],salary[index],property_[index]]\n",
    "        index+=1\n",
    "        \n",
    "    return vector"
   ]
  },
  {
   "cell_type": "code",
   "execution_count": 5,
   "metadata": {
    "collapsed": true
   },
   "outputs": [],
   "source": [
    "Dtrain = normalise_data(Dtrain)\n",
    "\n",
    "Dtest = normalise_data(Dtest)\n",
    "\n",
    "verification = lambda Dtest: [row_[3] for row_ in Dtest ]\n",
    "\n",
    "validation=verification(Dtest)"
   ]
  },
  {
   "cell_type": "markdown",
   "metadata": {},
   "source": [
    "# KNN implementation"
   ]
  },
  {
   "cell_type": "code",
   "execution_count": 6,
   "metadata": {
    "collapsed": true
   },
   "outputs": [],
   "source": [
    "result = []\n",
    "\n",
    "def KNN(Dtest,Dtrain,result):\n",
    "    \n",
    "    import math\n",
    "    \n",
    "    similar =  lambda x,y: 1 if x==y else 0\n",
    "    \n",
    "    distance = lambda v1: math.sqrt(sum([v**2 for v in v1]))\n",
    "    \n",
    "    diff = lambda v0,v2,l : [v0[n]-v2[n] for n in xrange(l)]\n",
    "        \n",
    "    top_five = lambda vec : [vec[i][1] for i in xrange(0,5)]\n",
    "    \n",
    "    reverse=lambda dict_1,v:{\n",
    "        v:sorted([key for key in dict_1 if dict_1[key]==v])\n",
    "    }\n",
    "        \n",
    "    \n",
    "    def eucli_distance(vec_1,vec_2):\n",
    "        \n",
    "        a=1-similar(vec_1[0],vec_2[0])\n",
    "        \n",
    "        b=1-similar(vec_1[1],vec_2[1])\n",
    "        \n",
    "        c,d,e,f = diff(vec_1[2],vec_2[2],len(vec_1[2]))\n",
    "        \n",
    "        return distance([a,b,c,d,e,f])\n",
    "        \n",
    "    from operator import itemgetter\n",
    "    \n",
    "    app_ = result.append\n",
    "    \n",
    "    for vec in Dtest:\n",
    "        distances = []\n",
    "        \n",
    "        app=distances.append \n",
    "        \n",
    "        for vec_ in Dtrain:\n",
    "            app([eucli_distance(vec,vec_),vec_[3]])\n",
    "        \n",
    "        distances=sorted(distances,key=itemgetter(0))\n",
    "        \n",
    "        classes = top_five(distances)\n",
    "        \n",
    "        class_ = {\n",
    "            'C1': classes.count('C1'),\n",
    "            'C2': classes.count('C2'),\n",
    "            'C3': classes.count('C3'),\n",
    "            'C4': classes.count('C4'),\n",
    "            'C5': classes.count('C5')\n",
    "        }\n",
    "        \n",
    "        v=max(class_.values())\n",
    "        \n",
    "        d=reverse(class_,v)\n",
    "        \n",
    "        app_(d[v][0])\n",
    "        \n",
    "    return result\n",
    "                \n",
    "result=KNN(Dtest,Dtrain,result)\n",
    "        "
   ]
  },
  {
   "cell_type": "code",
   "execution_count": 7,
   "metadata": {},
   "outputs": [
    {
     "data": {
      "text/plain": [
       "28.57142857142857"
      ]
     },
     "execution_count": 7,
     "metadata": {},
     "output_type": "execute_result"
    }
   ],
   "source": [
    "def accuracy(result,validation):\n",
    "    \n",
    "    r1 = len(result)\n",
    "    \n",
    "    matches = lambda v1,v2,r1: [1 if v1[r]==v2[r] else 0 for r in xrange(r1)]    \n",
    "    \n",
    "    return matches(result,validation,r1).count(1)/len(result)*100\n",
    "\n",
    "accuracy(result,validation)"
   ]
  },
  {
   "cell_type": "markdown",
   "metadata": {},
   "source": [
    "# Sci-Kit Learn Implementation"
   ]
  },
  {
   "cell_type": "code",
   "execution_count": null,
   "metadata": {
    "collapsed": true
   },
   "outputs": [],
   "source": []
  }
 ],
 "metadata": {
  "kernelspec": {
   "display_name": "Python 2",
   "language": "python",
   "name": "python2"
  },
  "language_info": {
   "codemirror_mode": {
    "name": "ipython",
    "version": 2
   },
   "file_extension": ".py",
   "mimetype": "text/x-python",
   "name": "python",
   "nbconvert_exporter": "python",
   "pygments_lexer": "ipython2",
   "version": "2.7"
  }
 },
 "nbformat": 4,
 "nbformat_minor": 2
}
